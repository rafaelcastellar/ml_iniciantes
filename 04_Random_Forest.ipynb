{
  "nbformat": 4,
  "nbformat_minor": 0,
  "metadata": {
    "colab": {
      "provenance": [],
      "toc_visible": true
    },
    "kernelspec": {
      "name": "python3",
      "display_name": "Python 3"
    },
    "language_info": {
      "name": "python"
    }
  },
  "cells": [
    {
      "cell_type": "markdown",
      "source": [
        "# Random Forest\n",
        "Floresta aleatória (random forest) é um algoritmo de aprendizado de máquina supervisionado. É um dos algoritmos mais utilizados devido à sua precisão, simplicidade e flexibilidade. O fato de poder ser usado para tarefas de classificação e regressão, combinado com sua natureza não linear, torna-o altamente adaptável a uma variedade de dados e situações.\n",
        "\n",
        "![](https://www.tibco.com/sites/tibco/files/media_entity/2021-05/random-forest-diagram.svg)\n",
        "\n",
        "É chamado de “floresta” porque desenvolve uma floresta de árvores de decisão. Os dados dessas árvores são então mesclados para garantir as previsões mais precisas. Enquanto uma árvore de decisão individual tem um resultado e uma gama estreita de grupos, a floresta garante um resultado mais preciso, com um número maior de grupos e decisões. Ela tem o benefício adicional de trazer aleatoriedade ao modelo, encontrando o melhor recurso em um subconjunto aleatório de recursos. No geral, esses benefícios criam um modelo com ampla diversidade que muitos cientistas de dados favorecem."
      ],
      "metadata": {
        "id": "xrZHp-P0Kjan"
      }
    },
    {
      "cell_type": "markdown",
      "source": [
        "**Por que Random Forest é tão famoso e amplamente adotado?**\n",
        "\n",
        "Por ter suas origens na forma mais básica e inicial de um algoritmo de suporte a decisão (as árvores de decisão), fica muito fácil entender seu funcionamento.\n",
        "Random Forests resolvem problemas tanto de regressão (ex.: prever valor de uma casa) quanto de classificação (e-mail é spam ou não é spam).\n",
        "Apresenta bons resultados em diversos tipos de problema.\n",
        "Tem bom desempenho.\n",
        "Possui implementações nas mais diversas bibliotecas de inteligência artificial disponíveis atualmente"
      ],
      "metadata": {
        "id": "shds83K8Hbpx"
      }
    },
    {
      "cell_type": "markdown",
      "source": [
        "**O algoritmo possui 4 passos:**\n",
        "1. Seleção aleatória de algumas features\n",
        "2. Seleção da feature mais adequada para a posição de nó raiz\n",
        "\n",
        "3. Geração dos nós filhos\n",
        "\n",
        "4. Repete os passos acima até que se atinja a quantidade de árvores desejada\n",
        "\n",
        "Depois que o modelo é gerado, as previsões são feitas a partir de “votações”. Cada mini árvore toma uma decisão a partir dos dados apresentados. A decisão mais votada é a resposta do algoritmo."
      ],
      "metadata": {
        "id": "tuwQUrgjH_EQ"
      }
    },
    {
      "cell_type": "markdown",
      "source": [
        "# Aplicando Random Forest\n",
        "Vamos continuar do exemplo do nosso notebook de Árvore de Decisão. Veremos como se comporta a mesma abordagem, mas agora por Random Forest.\n",
        "\n",
        "A seguir, faremos os mesmos passos para preparar os dados:"
      ],
      "metadata": {
        "id": "WqIRW5hOm38L"
      }
    },
    {
      "cell_type": "code",
      "source": [
        "import pandas as pd\n",
        "from sklearn.datasets import load_iris\n",
        "\n",
        "data = load_iris()\n",
        "\n",
        "# transformando em DataFrame\n",
        "iris = pd.DataFrame(data.data)\n",
        "iris.columns = data.feature_names\n",
        "iris['target'] = data.target\n",
        "\n",
        "iris['target']=  pd.Categorical.from_codes(iris.target, data.target_names)\n",
        "\n",
        "X = iris.drop(['target'], axis=1)\n",
        "y = iris['target']"
      ],
      "metadata": {
        "id": "AuzBlPeQgt8j"
      },
      "execution_count": 1,
      "outputs": []
    },
    {
      "cell_type": "markdown",
      "source": [
        "# Criando o nosso modelo de Random Forest\n"
      ],
      "metadata": {
        "id": "KsUvcgORoKmn"
      }
    },
    {
      "cell_type": "code",
      "source": [
        "from sklearn.ensemble import RandomForestClassifier\n",
        "from sklearn.model_selection import cross_val_score\n",
        "\n",
        "clf = RandomForestClassifier(random_state=42,\n",
        "                           criterion='gini',\n",
        "                           max_depth=10,\n",
        "                           n_estimators=50,\n",
        "                           n_jobs=-1)\n",
        "\n",
        "clf.fit(X,y)\n"
      ],
      "metadata": {
        "colab": {
          "base_uri": "https://localhost:8080/",
          "height": 92
        },
        "id": "yfZ5N7P-oYST",
        "outputId": "86c409e3-0e00-4bdd-a283-c61b2bf2cae6"
      },
      "execution_count": 2,
      "outputs": [
        {
          "output_type": "execute_result",
          "data": {
            "text/plain": [
              "RandomForestClassifier(max_depth=10, n_estimators=50, n_jobs=-1,\n",
              "                       random_state=42)"
            ],
            "text/html": [
              "<style>#sk-container-id-1 {color: black;background-color: white;}#sk-container-id-1 pre{padding: 0;}#sk-container-id-1 div.sk-toggleable {background-color: white;}#sk-container-id-1 label.sk-toggleable__label {cursor: pointer;display: block;width: 100%;margin-bottom: 0;padding: 0.3em;box-sizing: border-box;text-align: center;}#sk-container-id-1 label.sk-toggleable__label-arrow:before {content: \"▸\";float: left;margin-right: 0.25em;color: #696969;}#sk-container-id-1 label.sk-toggleable__label-arrow:hover:before {color: black;}#sk-container-id-1 div.sk-estimator:hover label.sk-toggleable__label-arrow:before {color: black;}#sk-container-id-1 div.sk-toggleable__content {max-height: 0;max-width: 0;overflow: hidden;text-align: left;background-color: #f0f8ff;}#sk-container-id-1 div.sk-toggleable__content pre {margin: 0.2em;color: black;border-radius: 0.25em;background-color: #f0f8ff;}#sk-container-id-1 input.sk-toggleable__control:checked~div.sk-toggleable__content {max-height: 200px;max-width: 100%;overflow: auto;}#sk-container-id-1 input.sk-toggleable__control:checked~label.sk-toggleable__label-arrow:before {content: \"▾\";}#sk-container-id-1 div.sk-estimator input.sk-toggleable__control:checked~label.sk-toggleable__label {background-color: #d4ebff;}#sk-container-id-1 div.sk-label input.sk-toggleable__control:checked~label.sk-toggleable__label {background-color: #d4ebff;}#sk-container-id-1 input.sk-hidden--visually {border: 0;clip: rect(1px 1px 1px 1px);clip: rect(1px, 1px, 1px, 1px);height: 1px;margin: -1px;overflow: hidden;padding: 0;position: absolute;width: 1px;}#sk-container-id-1 div.sk-estimator {font-family: monospace;background-color: #f0f8ff;border: 1px dotted black;border-radius: 0.25em;box-sizing: border-box;margin-bottom: 0.5em;}#sk-container-id-1 div.sk-estimator:hover {background-color: #d4ebff;}#sk-container-id-1 div.sk-parallel-item::after {content: \"\";width: 100%;border-bottom: 1px solid gray;flex-grow: 1;}#sk-container-id-1 div.sk-label:hover label.sk-toggleable__label {background-color: #d4ebff;}#sk-container-id-1 div.sk-serial::before {content: \"\";position: absolute;border-left: 1px solid gray;box-sizing: border-box;top: 0;bottom: 0;left: 50%;z-index: 0;}#sk-container-id-1 div.sk-serial {display: flex;flex-direction: column;align-items: center;background-color: white;padding-right: 0.2em;padding-left: 0.2em;position: relative;}#sk-container-id-1 div.sk-item {position: relative;z-index: 1;}#sk-container-id-1 div.sk-parallel {display: flex;align-items: stretch;justify-content: center;background-color: white;position: relative;}#sk-container-id-1 div.sk-item::before, #sk-container-id-1 div.sk-parallel-item::before {content: \"\";position: absolute;border-left: 1px solid gray;box-sizing: border-box;top: 0;bottom: 0;left: 50%;z-index: -1;}#sk-container-id-1 div.sk-parallel-item {display: flex;flex-direction: column;z-index: 1;position: relative;background-color: white;}#sk-container-id-1 div.sk-parallel-item:first-child::after {align-self: flex-end;width: 50%;}#sk-container-id-1 div.sk-parallel-item:last-child::after {align-self: flex-start;width: 50%;}#sk-container-id-1 div.sk-parallel-item:only-child::after {width: 0;}#sk-container-id-1 div.sk-dashed-wrapped {border: 1px dashed gray;margin: 0 0.4em 0.5em 0.4em;box-sizing: border-box;padding-bottom: 0.4em;background-color: white;}#sk-container-id-1 div.sk-label label {font-family: monospace;font-weight: bold;display: inline-block;line-height: 1.2em;}#sk-container-id-1 div.sk-label-container {text-align: center;}#sk-container-id-1 div.sk-container {/* jupyter's `normalize.less` sets `[hidden] { display: none; }` but bootstrap.min.css set `[hidden] { display: none !important; }` so we also need the `!important` here to be able to override the default hidden behavior on the sphinx rendered scikit-learn.org. See: https://github.com/scikit-learn/scikit-learn/issues/21755 */display: inline-block !important;position: relative;}#sk-container-id-1 div.sk-text-repr-fallback {display: none;}</style><div id=\"sk-container-id-1\" class=\"sk-top-container\"><div class=\"sk-text-repr-fallback\"><pre>RandomForestClassifier(max_depth=10, n_estimators=50, n_jobs=-1,\n",
              "                       random_state=42)</pre><b>In a Jupyter environment, please rerun this cell to show the HTML representation or trust the notebook. <br />On GitHub, the HTML representation is unable to render, please try loading this page with nbviewer.org.</b></div><div class=\"sk-container\" hidden><div class=\"sk-item\"><div class=\"sk-estimator sk-toggleable\"><input class=\"sk-toggleable__control sk-hidden--visually\" id=\"sk-estimator-id-1\" type=\"checkbox\" checked><label for=\"sk-estimator-id-1\" class=\"sk-toggleable__label sk-toggleable__label-arrow\">RandomForestClassifier</label><div class=\"sk-toggleable__content\"><pre>RandomForestClassifier(max_depth=10, n_estimators=50, n_jobs=-1,\n",
              "                       random_state=42)</pre></div></div></div></div></div>"
            ]
          },
          "metadata": {},
          "execution_count": 2
        }
      ]
    },
    {
      "cell_type": "markdown",
      "source": [
        "Validando o nosso modelo por meio de **Cross-validation**.\n",
        "\n",
        "Lembremos que no exemplo anterior, com Árvore de Decisão, obtivemos um score de **0,953**."
      ],
      "metadata": {
        "id": "9i31LANpozNp"
      }
    },
    {
      "cell_type": "code",
      "source": [
        "scores_rf = cross_val_score(clf, X, y,\n",
        "                            scoring='accuracy', cv=5)\n",
        "\n",
        "print(scores_rf.mean())"
      ],
      "metadata": {
        "colab": {
          "base_uri": "https://localhost:8080/"
        },
        "id": "2CGkbnB2lx19",
        "outputId": "8835dc07-3537-47c8-f3d1-38c5fff0e766"
      },
      "execution_count": 3,
      "outputs": [
        {
          "output_type": "stream",
          "name": "stdout",
          "text": [
            "0.9666666666666668\n"
          ]
        }
      ]
    },
    {
      "cell_type": "markdown",
      "source": [
        "![](https://pyxis.nymag.com/v1/imgs/d6a/dc7/4a5001b7beea096457f480c8808572428b-09-roll-safe.rhorizontal.w700.jpg)"
      ],
      "metadata": {
        "id": "q8eeOouSpmkt"
      }
    },
    {
      "cell_type": "markdown",
      "source": [
        "# Fazendo predições\n"
      ],
      "metadata": {
        "id": "d-NXobUfp_eC"
      }
    },
    {
      "cell_type": "code",
      "source": [
        "Test_point = [[5.4,3.0,4.5,1.5],\n",
        "             [6.5,2.8,4.6,1.5],\n",
        "             [5.1,2.5,3.0,1.1],\n",
        "             [5.1,3.3,1.7,0.5],\n",
        "             [6.0,2.7,5.1,1.6],\n",
        "             [6.0,2.2,5.0,1.5]]\n",
        "\n",
        "print(clf.predict(Test_point))"
      ],
      "metadata": {
        "colab": {
          "base_uri": "https://localhost:8080/"
        },
        "id": "tazZ3xOZqF-j",
        "outputId": "367da188-90c5-4e61-e70d-8c618fb5f9d9"
      },
      "execution_count": 4,
      "outputs": [
        {
          "output_type": "stream",
          "name": "stdout",
          "text": [
            "['versicolor' 'versicolor' 'versicolor' 'setosa' 'versicolor' 'virginica']\n"
          ]
        },
        {
          "output_type": "stream",
          "name": "stderr",
          "text": [
            "/usr/local/lib/python3.10/dist-packages/sklearn/base.py:439: UserWarning: X does not have valid feature names, but RandomForestClassifier was fitted with feature names\n",
            "  warnings.warn(\n"
          ]
        }
      ]
    },
    {
      "cell_type": "markdown",
      "source": [
        "---\n",
        "Fontes:\n",
        "* https://didatica.tech/o-que-e-e-como-funciona-o-algoritmo-randomforest/\n",
        "* https://icmcjunior.com.br/random-forest/\n",
        "* https://www.tibco.com/pt-br/reference-center/what-is-a-random-forest\n",
        "* https://medium.com/cinthiabpessanha/random-forest-como-funciona-um-dos-algoritmos-mais-populares-de-ml-cc1b8a58b3b4"
      ],
      "metadata": {
        "id": "7zgs1QNq-Ie0"
      }
    },
    {
      "cell_type": "markdown",
      "source": [
        "![](![image.png])"
      ],
      "metadata": {
        "id": "cMz-5FwAtV4F"
      }
    }
  ]
}